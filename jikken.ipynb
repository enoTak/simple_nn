{
 "cells": [
  {
   "cell_type": "code",
   "execution_count": 1,
   "id": "e75eb30b",
   "metadata": {},
   "outputs": [],
   "source": [
    "import numpy as np\n",
    "import matplotlib.pyplot as plt"
   ]
  },
  {
   "cell_type": "code",
   "execution_count": 2,
   "id": "bee675d1",
   "metadata": {},
   "outputs": [],
   "source": [
    "def step_function(x):\n",
    "    return np.array(x > 0, dtype=int)\n",
    "\n",
    "\n",
    "def sigmoid(x):\n",
    "    return 1 / (1 + np.exp(-x))\n",
    "\n",
    "\n",
    "def relu(x):\n",
    "    return np.maximum(x, 0)\n",
    "\n",
    "\n",
    "def identity(x):\n",
    "    return x"
   ]
  },
  {
   "cell_type": "code",
   "execution_count": 3,
   "id": "d75c1650",
   "metadata": {},
   "outputs": [
    {
     "data": {
      "text/plain": [
       "(-0.1, 1.1)"
      ]
     },
     "execution_count": 3,
     "metadata": {},
     "output_type": "execute_result"
    },
    {
     "data": {
      "image/png": "[encoded data removed]",
      "text/plain": [
       "<Figure size 432x288 with 1 Axes>"
      ]
     },
     "metadata": {
      "needs_background": "light"
     },
     "output_type": "display_data"
    }
   ],
   "source": [
    "x = np.arange(-5.0, 5.0, 0.1)\n",
    "\n",
    "f1 = step_function\n",
    "y1 = f1(x)\n",
    "f2 = sigmoid\n",
    "y2 = f2(x)\n",
    "f3 = relu\n",
    "y3 = f3(x)\n",
    "\n",
    "plt.plot(x, y1)\n",
    "plt.plot(x, y2)\n",
    "plt.plot(x, y3)\n",
    "\n",
    "plt.ylim(-0.1, 1.1)"
   ]
  },
  {
   "cell_type": "code",
   "execution_count": 4,
   "id": "2f9f098d",
   "metadata": {},
   "outputs": [],
   "source": [
    "def init_network():\n",
    "    network = {}\n",
    "    network[\"W1\"] = np.random.randn(2, 3)\n",
    "    network[\"b1\"] = np.random.randn(3)\n",
    "    network[\"W2\"] = np.random.randn(3, 2)\n",
    "    network[\"b2\"] = np.random.randn(2)\n",
    "    network[\"W3\"] = np.random.randn(2, 2)\n",
    "    network[\"b3\"] = np.random.randn(2)\n",
    "    \n",
    "    return network\n",
    "\n",
    "\n",
    "def forward(network, x):\n",
    "    W1, W2, W3 = network[\"W1\"], network[\"W2\"], network[\"W3\"]\n",
    "    b1, b2, b3 = network[\"b1\"], network[\"b2\"], network[\"b3\"]\n",
    "    \n",
    "    a1 = x @ W1 + b1\n",
    "    z1 = sigmoid(a1)\n",
    "    a2 = z1 @ W2 + b2\n",
    "    z2 = sigmoid(a2)\n",
    "    a3 = z2 @ W3 + b3\n",
    "    y = identity(a3)\n",
    "    \n",
    "    return y\n",
    "\n",
    "\n",
    "def softmax(a):\n",
    "    c = np.max(a)\n",
    "    exp_a = np.exp(a - c)\n",
    "    sum_exp_a = np.sum(exp_a)\n",
    "    return exp_a / sum_exp_a"
   ]
  },
  {
   "cell_type": "code",
   "execution_count": 5,
   "id": "b41e9f6e",
   "metadata": {},
   "outputs": [
    {
     "data": {
      "text/plain": [
       "array([-1.25209715, -0.55858667])"
      ]
     },
     "execution_count": 5,
     "metadata": {},
     "output_type": "execute_result"
    }
   ],
   "source": [
    "network = init_network()\n",
    "x = np.random.random(2)\n",
    "y = forward(network, x)\n",
    "y"
   ]
  },
  {
   "cell_type": "code",
   "execution_count": 6,
   "id": "cacad9ad",
   "metadata": {},
   "outputs": [
    {
     "data": {
      "text/plain": [
       "[<matplotlib.lines.Line2D at 0x7fa17b302130>]"
      ]
     },
     "execution_count": 6,
     "metadata": {},
     "output_type": "execute_result"
    },
    {
     "data": {
      "image/png": "[encoded data removed]",
      "text/plain": [
       "<Figure size 432x288 with 1 Axes>"
      ]
     },
     "metadata": {
      "needs_background": "light"
     },
     "output_type": "display_data"
    }
   ],
   "source": [
    "x = np.array([[v, 0.2] for v in np.arange(-5.0, 5.0, 0.1)])\n",
    "y = forward(network, x)\n",
    "plt.plot(x[:,0], y[:,1])"
   ]
  },
  {
   "cell_type": "code",
   "execution_count": 7,
   "id": "9df30448",
   "metadata": {},
   "outputs": [
    {
     "data": {
      "text/plain": [
       "array([0.35509328, 0.19780022, 0.08381189, 0.26390011, 0.0993945 ])"
      ]
     },
     "execution_count": 7,
     "metadata": {},
     "output_type": "execute_result"
    }
   ],
   "source": [
    "a = np.random.randn(5)\n",
    "y = softmax(a)\n",
    "y"
   ]
  },
  {
   "cell_type": "code",
   "execution_count": 8,
   "id": "7a7a99ea",
   "metadata": {},
   "outputs": [
    {
     "data": {
      "text/plain": [
       "1.0"
      ]
     },
     "execution_count": 8,
     "metadata": {},
     "output_type": "execute_result"
    }
   ],
   "source": [
    "sum(y)"
   ]
  },
  {
   "cell_type": "code",
   "execution_count": 9,
   "id": "54405215",
   "metadata": {},
   "outputs": [],
   "source": [
    "import simple_nn"
   ]
  },
  {
   "cell_type": "code",
   "execution_count": 10,
   "id": "faa8344b",
   "metadata": {},
   "outputs": [],
   "source": [
    "network = simple_nn.init_network()"
   ]
  },
  {
   "cell_type": "code",
   "execution_count": 11,
   "id": "939350a1",
   "metadata": {},
   "outputs": [],
   "source": [
    "from dataset.mnist import load_mnist"
   ]
  },
  {
   "cell_type": "code",
   "execution_count": 12,
   "id": "ff508ee2",
   "metadata": {},
   "outputs": [],
   "source": [
    "(x_train, t_train), (x_test, t_test) = load_mnist(flatten=True, normalize=True, one_hot_label=False)"
   ]
  },
  {
   "cell_type": "code",
   "execution_count": 13,
   "id": "246fe045",
   "metadata": {},
   "outputs": [
    {
     "data": {
      "text/plain": [
       "((60000, 784), (60000,), (10000, 784), (10000,))"
      ]
     },
     "execution_count": 13,
     "metadata": {},
     "output_type": "execute_result"
    }
   ],
   "source": [
    "x_train.shape, t_train.shape, x_test.shape, t_test.shape"
   ]
  },
  {
   "cell_type": "code",
   "execution_count": 14,
   "id": "6abab62f",
   "metadata": {},
   "outputs": [],
   "source": [
    "from PIL import Image\n",
    "\n",
    "def show_img(img):\n",
    "    pil_img = Image.fromarray(np.uint8(img))\n",
    "    pil_img.show()"
   ]
  },
  {
   "cell_type": "code",
   "execution_count": 15,
   "id": "87989038",
   "metadata": {},
   "outputs": [],
   "source": [
    "img = x_train[0]\n",
    "label = t_train[0]\n",
    "img = img.reshape(28, 28)\n",
    "# show_img(img)"
   ]
  },
  {
   "cell_type": "code",
   "execution_count": 16,
   "id": "f1870240",
   "metadata": {},
   "outputs": [],
   "source": [
    "network = simple_nn.init_network(pkl=\"sample_weight.pkl\")"
   ]
  },
  {
   "cell_type": "code",
   "execution_count": 17,
   "id": "7784478c",
   "metadata": {},
   "outputs": [],
   "source": [
    "accuracy_count = 0\n",
    "for i in range(len(x_test)):\n",
    "    y = simple_nn.predict(network, x_test[i])\n",
    "    p = np.argmax(y)\n",
    "    if p == t_test[i]:\n",
    "        accuracy_count += 1"
   ]
  },
  {
   "cell_type": "code",
   "execution_count": 18,
   "id": "6101b76c",
   "metadata": {},
   "outputs": [
    {
     "data": {
      "text/plain": [
       "'Accuracy: 0.9352'"
      ]
     },
     "execution_count": 18,
     "metadata": {},
     "output_type": "execute_result"
    }
   ],
   "source": [
    "f\"Accuracy: {float(accuracy_count / len(x_test))}\""
   ]
  },
  {
   "cell_type": "code",
   "execution_count": 19,
   "id": "17e0b49c",
   "metadata": {},
   "outputs": [
    {
     "data": {
      "text/plain": [
       "(784,)"
      ]
     },
     "execution_count": 19,
     "metadata": {},
     "output_type": "execute_result"
    }
   ],
   "source": [
    "x_test[0].shape"
   ]
  },
  {
   "cell_type": "code",
   "execution_count": 20,
   "id": "a17311b7",
   "metadata": {},
   "outputs": [
    {
     "data": {
      "text/plain": [
       "(784, 50)"
      ]
     },
     "execution_count": 20,
     "metadata": {},
     "output_type": "execute_result"
    }
   ],
   "source": [
    "network[\"W1\"].shape"
   ]
  },
  {
   "cell_type": "code",
   "execution_count": 30,
   "id": "6adc886c",
   "metadata": {},
   "outputs": [],
   "source": [
    "accuracy_count = 0\n",
    "batch_size = 100\n",
    "\n",
    "for i in range(0, len(x_test), batch_size):\n",
    "    x_batch = x_test[i: i + batch_size]\n",
    "    t_batch = t_test[i: i + batch_size]\n",
    "    y_batch = simple_nn.predict(network, x_batch)\n",
    "    p = np.argmax(y_batch, axis=1)\n",
    "    accuracy_count += np.sum(p == t_batch)"
   ]
  },
  {
   "cell_type": "code",
   "execution_count": 31,
   "id": "44513eff",
   "metadata": {},
   "outputs": [
    {
     "data": {
      "text/plain": [
       "'Accuracy: 0.9352'"
      ]
     },
     "execution_count": 31,
     "metadata": {},
     "output_type": "execute_result"
    }
   ],
   "source": [
    "f\"Accuracy: {float(accuracy_count / len(x_test))}\""
   ]
  },
  {
   "cell_type": "code",
   "execution_count": 33,
   "id": "19e5dbc1",
   "metadata": {},
   "outputs": [
    {
     "data": {
      "text/plain": [
       "array([0.39079177, 0.05217227, 0.04469452, 0.03897816, 0.05403798,\n",
       "       0.02032611, 0.14146924, 0.21082105, 0.0257525 , 0.02095637],\n",
       "      dtype=float32)"
      ]
     },
     "execution_count": 33,
     "metadata": {},
     "output_type": "execute_result"
    }
   ],
   "source": [
    "sum(y_batch)"
   ]
  },
  {
   "cell_type": "code",
   "execution_count": 35,
   "id": "2feeb352",
   "metadata": {},
   "outputs": [
    {
     "data": {
      "text/plain": [
       "0.9999999795109034"
      ]
     },
     "execution_count": 35,
     "metadata": {},
     "output_type": "execute_result"
    }
   ],
   "source": [
    "sum(sum(y_batch))"
   ]
  },
  {
   "cell_type": "code",
   "execution_count": 36,
   "id": "cbd4ed85",
   "metadata": {},
   "outputs": [],
   "source": [
    "def cross_entropy_error(y, t):\n",
    "    if y.ndim == 1:\n",
    "        t = t.reshape(1, t.size)\n",
    "        y = y.reshape(1, y.size)\n",
    "\n",
    "    batch_size = y.shape[0]\n",
    "    return -np.sum(t * np.lop(y)) / batch_size"
   ]
  },
  {
   "cell_type": "code",
   "execution_count": null,
   "id": "27bb8842",
   "metadata": {},
   "outputs": [],
   "source": [
    "from termios import CRPRNT\n",
    "\n",
    "\n",
    "y = [0.0, 0.1, 0.9]\n",
    "t = [1, 0, 0]\n",
    "CRPRNT"
   ]
  }
 ],
 "metadata": {
  "kernelspec": {
   "display_name": "Python 3.8.13 ('ent_nn_local')",
   "language": "python",
   "name": "python3"
  },
  "language_info": {
   "codemirror_mode": {
    "name": "ipython",
    "version": 3
   },
   "file_extension": ".py",
   "mimetype": "text/x-python",
   "name": "python",
   "nbconvert_exporter": "python",
   "pygments_lexer": "ipython3",
   "version": "3.8.13"
  },
  "vscode": {
   "interpreter": {
    "hash": "15623f1e8f7bfb0dcb8e7966a0c3fe84694798aa9fe8749863f1077605bf5b88"
   }
  }
 },
 "nbformat": 4,
 "nbformat_minor": 5
}
